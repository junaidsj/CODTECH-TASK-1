{
 "cells": [
  {
   "cell_type": "code",
   "execution_count": 6,
   "id": "314523f2-982f-41a2-a3ac-883e2393e22a",
   "metadata": {},
   "outputs": [
    {
     "name": "stdout",
     "output_type": "stream",
     "text": [
      "Running ETL Pipeline...\n",
      "\n",
      "Raw Data:\n",
      "      Name  Age  Salary         Department\n",
      "0    Mark   45   50500     Data Scientist\n",
      "1   Henry   32   32000     AI Engineering\n",
      "2    Syed   23   80000     AI Engineering\n",
      "3    Matt   40   25000       Data Analyst\n",
      "4  Stella   35   99000  Data Architecture\n",
      "\n",
      "Transformed Data:\n",
      "      Name  Department_encoded  Age_scaled  Salary_scaled\n",
      "0    Mark                   3    1.341104      -0.240905\n",
      "1   Henry                   0   -0.402331      -0.896307\n",
      "2    Syed                   0   -1.609325       0.804196\n",
      "3    Matt                   1    0.670552      -1.144297\n",
      "4  Stella                   2    0.000000       1.477312\n",
      "\n",
      "Data successfully saved to transformed_data.csv\n"
     ]
    }
   ],
   "source": [
    "import pandas as pd\n",
    "from sklearn.preprocessing import StandardScaler, LabelEncoder\n",
    "def extract():\n",
    "    data = {\n",
    "        'Name': ['Mark', 'Henry', 'Syed', 'Matt', 'Stella'],\n",
    "        'Age': [45, 32, 23, 40, 35],\n",
    "        'Salary': [50500, 32000, 80000, 25000, 99000],\n",
    "        'Department': ['Data Scientist', 'AI Engineering', 'AI Engineering', 'Data Analyst', 'Data Architecture']\n",
    "    }\n",
    "    df = pd.DataFrame(data)\n",
    "    return df\n",
    "def transform(df):\n",
    "    le = LabelEncoder()\n",
    "    df['Department_encoded'] = le.fit_transform(df['Department'])\n",
    "\n",
    "    scaler = StandardScaler()\n",
    "    df[['Age_scaled', 'Salary_scaled']] = scaler.fit_transform(df[['Age', 'Salary']])\n",
    "\n",
    "    final_df = df[['Name', 'Department_encoded', 'Age_scaled', 'Salary_scaled']]\n",
    "    return final_df\n",
    "def load(df, filename='transformed_data.csv'):\n",
    "    df.to_csv(filename, index=False)\n",
    "    print(f\"\\nData successfully saved to {filename}\")\n",
    "def etl_pipeline():\n",
    "    print(\"Running ETL Pipeline...\\n\")\n",
    "    raw_data = extract()\n",
    "    print(\"Raw Data:\\n\", raw_data)\n",
    "\n",
    "    transformed_data = transform(raw_data)\n",
    "    print(\"\\nTransformed Data:\\n\", transformed_data)\n",
    "\n",
    "    load(transformed_data)\n",
    "\n",
    "etl_pipeline()\n"
   ]
  },
  {
   "cell_type": "code",
   "execution_count": null,
   "id": "d67b5ef9-1811-45f9-a989-4020a7b0c401",
   "metadata": {},
   "outputs": [],
   "source": []
  }
 ],
 "metadata": {
  "kernelspec": {
   "display_name": "Python 3 (ipykernel)",
   "language": "python",
   "name": "python3"
  },
  "language_info": {
   "codemirror_mode": {
    "name": "ipython",
    "version": 3
   },
   "file_extension": ".py",
   "mimetype": "text/x-python",
   "name": "python",
   "nbconvert_exporter": "python",
   "pygments_lexer": "ipython3",
   "version": "3.12.7"
  }
 },
 "nbformat": 4,
 "nbformat_minor": 5
}
